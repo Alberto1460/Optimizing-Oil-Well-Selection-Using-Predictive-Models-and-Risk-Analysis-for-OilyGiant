{
 "cells": [
  {
   "cell_type": "markdown",
   "metadata": {},
   "source": [
    "<div style=\"text-align: center; font-size: 30px; color: blue; font-family: 'Arial', sans-serif;\">\n",
    "    <b>\"Optimización de la Selección de Pozos Petrolíferos en Regiones Prospectivas: Un Enfoque Basado en Modelos Predictivos y Análisis de Riesgo\"</b>\n",
    "</div>"
   ]
  },
  {
   "cell_type": "markdown",
   "metadata": {},
   "source": [
    "# Contenido <a id='back'></a>\n",
    "\n",
    "* [Introducción](#intro)\n",
    "* [Etapa 1. Carga y Exploración de los Datos](#data_review)\n",
    "    * [1.1 Descripción de los Datos](#data_review)\n",
    "* [Etapa 2. Preparación de los Datos](#data_preparing)\n",
    "    * [2.1 División del conjunto de entrenamiento y de prueba](#data_divisions)\n",
    "    * [2.2 Visualización de los resultados del modelo de Regresión Lineal](#data_model)\n",
    "    * [2.3 Estimación de ganancias necesarias para la rentabilidad de los pozos petroleros](#ganancias_pozos)\n",
    "    * [Conclusiones de la Etapa 2](#conclusions_etapa2)\n",
    "* [Etapa 3. Cálculos de ganancia en los 200 pozos petrolíferos](#data_petroleo)\n",
    "    * [3.1 Selección de los 200 pozos petrolíferos mas rentables de cada una de las tres regiones](#choose_good_pozos)\n",
    "    * [3.2 Utilización de técnica bootstrapping para verificar las ganancias totales de los 200 pozos petrolíferos seleccionados por región](#bootstrapping)\n",
    "    * [Conclusión de la etapa 3](#etapa3_conclusión)\n",
    "* [Conclusiones finales del proyecto](#end)"
   ]
  },
  {
   "cell_type": "markdown",
   "metadata": {},
   "source": [
    "# Etapa 1. Carga y Exploración de los Datos <a id=data_review></a>"
   ]
  },
  {
   "cell_type": "code",
   "execution_count": 51,
   "metadata": {},
   "outputs": [],
   "source": [
    "# Cargamos los módulos a utilizar, e importamos funciones específicas de módulos\n",
    "import pandas as pd\n",
    "import numpy as np\n",
    "from sklearn.model_selection import train_test_split\n",
    "from sklearn.linear_model import LinearRegressionr\n",
    "from sklearn.metrics import mean_squared_error\n",
    "import matplotlib.pyplot as plt"
   ]
  },
  {
   "cell_type": "markdown",
   "metadata": {},
   "source": [
    "# Introducción <a id=intro></a>\n",
    "La compañía petrolera OilyGiant enfrenta un desafío clave: identificar las ubicaciones más rentables para la apertura de 200 nuevos pozos de petróleo en tres regiones con potencial. La selección de estos pozos debe maximizar el retorno de inversión al tiempo que minimiza los riesgos asociados. Con el avance en el análisis de datos y los modelos predictivos, ahora es posible abordar esta tarea con una precisión significativa.\n",
    "\n",
    "Este proyecto tiene como objetivo desarrollar un modelo predictivo basado en regresión lineal para estimar el volumen de reservas en cada pozo y seleccionar los 200 mejores puntos en términos de rentabilidad dentro de cada región. Para la evaluación del beneficio y del riesgo, se utiliza la técnica de bootstrapping, la cual permite obtener estimaciones robustas del beneficio esperado y el riesgo de pérdidas para cada región. Esto asegura que la selección final cumpla con criterios de beneficio elevado y riesgo reducido.\n",
    "\n",
    "Finalmente, el análisis permitirá a OilyGiant tomar decisiones informadas para invertir de manera estratégica, mejorando así la eficiencia en la extracción de petróleo y optimizando el retorno sobre su presupuesto de 100 millones de dólares para este proyecto."
   ]
  },
  {
   "cell_type": "code",
   "execution_count": 8,
   "metadata": {},
   "outputs": [],
   "source": [
    "# Cargamos los conjuntos de datos, como tenemos 3 regiones, pondremos un nombre descriptivo a cada una de ellas\n",
    "region_first = pd.read_csv('/home/josue/Aprendizaje_automatico_en_negocios/geo_data_0.csv') \n",
    "region_second = pd.read_csv('/home/josue/Aprendizaje_automatico_en_negocios/geo_data_1.csv')\n",
    "region_third = pd.read_csv('/home/josue/Aprendizaje_automatico_en_negocios/geo_data_2.csv')"
   ]
  },
  {
   "cell_type": "markdown",
   "metadata": {},
   "source": [
    "## 1.1 Descripción de los Datos <a id='data_review'></a>"
   ]
  },
  {
   "cell_type": "code",
   "execution_count": 11,
   "metadata": {},
   "outputs": [
    {
     "name": "stdout",
     "output_type": "stream",
     "text": [
      "************* Región 1 *************\n",
      "Observación de las primeras filas de los conjuntos de datos:\n",
      "        id        f0        f1        f2     product\n",
      "0  txEyH  0.705745 -0.497823  1.221170  105.280062\n",
      "1  2acmU  1.334711 -0.340164  4.365080   73.037750\n",
      "2  409Wp  1.022732  0.151990  1.419926   85.265647\n",
      "3  iJLyR -0.032172  0.139033  2.978566  168.620776\n",
      "4  Xdl7t  1.988431  0.155413  4.751769  154.036647\n",
      "\n",
      "\n",
      "Dimensiones del conjunto de Datos:  (100000, 5)\n",
      "\n",
      "\n",
      "<class 'pandas.core.frame.DataFrame'>\n",
      "RangeIndex: 100000 entries, 0 to 99999\n",
      "Data columns (total 5 columns):\n",
      " #   Column   Non-Null Count   Dtype  \n",
      "---  ------   --------------   -----  \n",
      " 0   id       100000 non-null  object \n",
      " 1   f0       100000 non-null  float64\n",
      " 2   f1       100000 non-null  float64\n",
      " 3   f2       100000 non-null  float64\n",
      " 4   product  100000 non-null  float64\n",
      "dtypes: float64(4), object(1)\n",
      "memory usage: 3.8+ MB\n",
      "None\n",
      "\n",
      "\n",
      "Distribución de valores en la columna product\n",
      "product\n",
      "105.280062    1\n",
      "122.799517    1\n",
      "61.817308     1\n",
      "37.155071     1\n",
      "73.090084     1\n",
      "             ..\n",
      "154.694803    1\n",
      "79.818082     1\n",
      "138.609486    1\n",
      "62.540393     1\n",
      "149.633246    1\n",
      "Name: count, Length: 100000, dtype: int64\n",
      "\n",
      "============================================================\n",
      "\n",
      "************* Región 2 *************\n",
      "Observación de las primeras filas de los conjuntos de datos:\n",
      "        id         f0         f1        f2     product\n",
      "0  kBEdx -15.001348  -8.276000 -0.005876    3.179103\n",
      "1  62mP7  14.272088  -3.475083  0.999183   26.953261\n",
      "2  vyE1P   6.263187  -5.948386  5.001160  134.766305\n",
      "3  KcrkZ -13.081196 -11.506057  4.999415  137.945408\n",
      "4  AHL4O  12.702195  -8.147433  5.004363  134.766305\n",
      "\n",
      "\n",
      "Dimensiones del conjunto de Datos:  (100000, 5)\n",
      "\n",
      "\n",
      "<class 'pandas.core.frame.DataFrame'>\n",
      "RangeIndex: 100000 entries, 0 to 99999\n",
      "Data columns (total 5 columns):\n",
      " #   Column   Non-Null Count   Dtype  \n",
      "---  ------   --------------   -----  \n",
      " 0   id       100000 non-null  object \n",
      " 1   f0       100000 non-null  float64\n",
      " 2   f1       100000 non-null  float64\n",
      " 3   f2       100000 non-null  float64\n",
      " 4   product  100000 non-null  float64\n",
      "dtypes: float64(4), object(1)\n",
      "memory usage: 3.8+ MB\n",
      "None\n",
      "\n",
      "\n",
      "Distribución de valores en la columna product\n",
      "product\n",
      "53.906522     8472\n",
      "26.953261     8468\n",
      "84.038886     8431\n",
      "57.085625     8390\n",
      "3.179103      8337\n",
      "80.859783     8320\n",
      "30.132364     8306\n",
      "134.766305    8304\n",
      "110.992147    8303\n",
      "0.000000      8235\n",
      "137.945408    8233\n",
      "107.813044    8201\n",
      "Name: count, dtype: int64\n",
      "\n",
      "============================================================\n",
      "\n",
      "************* Región 3 *************\n",
      "Observación de las primeras filas de los conjuntos de datos:\n",
      "        id        f0        f1        f2     product\n",
      "0  fwXo0 -1.146987  0.963328 -0.828965   27.758673\n",
      "1  WJtFt  0.262778  0.269839 -2.530187   56.069697\n",
      "2  ovLUW  0.194587  0.289035 -5.586433   62.871910\n",
      "3  q6cA6  2.236060 -0.553760  0.930038  114.572842\n",
      "4  WPMUX -0.515993  1.716266  5.899011  149.600746\n",
      "\n",
      "\n",
      "Dimensiones del conjunto de Datos:  (100000, 5)\n",
      "\n",
      "\n",
      "<class 'pandas.core.frame.DataFrame'>\n",
      "RangeIndex: 100000 entries, 0 to 99999\n",
      "Data columns (total 5 columns):\n",
      " #   Column   Non-Null Count   Dtype  \n",
      "---  ------   --------------   -----  \n",
      " 0   id       100000 non-null  object \n",
      " 1   f0       100000 non-null  float64\n",
      " 2   f1       100000 non-null  float64\n",
      " 3   f2       100000 non-null  float64\n",
      " 4   product  100000 non-null  float64\n",
      "dtypes: float64(4), object(1)\n",
      "memory usage: 3.8+ MB\n",
      "None\n",
      "\n",
      "\n",
      "Distribución de valores en la columna product\n",
      "product\n",
      "27.758673     1\n",
      "145.850966    1\n",
      "51.061821     1\n",
      "51.767755     1\n",
      "127.557176    1\n",
      "             ..\n",
      "138.662027    1\n",
      "171.123264    1\n",
      "102.381336    1\n",
      "140.622292    1\n",
      "102.775767    1\n",
      "Name: count, Length: 100000, dtype: int64\n",
      "\n",
      "============================================================\n",
      "\n"
     ]
    }
   ],
   "source": [
    "# Lista de DataFrames y nombres descriptivos\n",
    "regions = region_first, region_second, region_third\n",
    "regions_name = ['Región 1', 'Región 2', 'Región 3']\n",
    "for region, name in zip(regions, regions_name):\n",
    "    print(f\"************* {name} *************\")\n",
    "    print('Observación de las primeras filas de los conjuntos de datos:\\n ', region.head())\n",
    "    print(\"\\n\")\n",
    "    print('Dimensiones del conjunto de Datos: ', region.shape)\n",
    "    print('\\n')\n",
    "    print(region.info())\n",
    "    print('\\n')\n",
    "    print('Distribución de valores en la columna product')\n",
    "    if 'product' in region.columns:\n",
    "        print(region['product'].value_counts())\n",
    "    print(\"\\n\" + \"=\"*60 + \"\\n\")\n",
    "    "
   ]
  },
  {
   "cell_type": "markdown",
   "metadata": {},
   "source": [
    "En esta parte observamos información importante sobre los 3 conjuntos de datos(regiones), vemos que los nombres de columnas se encuentran normalizadas, también no hay valores ausentes, también el tipo de datos de los conjuntos de datos es correcto."
   ]
  },
  {
   "cell_type": "markdown",
   "metadata": {},
   "source": [
    "# Etapa 2 Preparación de los Datos <a id=data_preparing></a>"
   ]
  },
  {
   "cell_type": "markdown",
   "metadata": {},
   "source": [
    "## 2.1 División del conjunto de entrenamiento y de prueba <a id=data_divisions></a>"
   ]
  },
  {
   "cell_type": "code",
   "execution_count": 24,
   "metadata": {},
   "outputs": [],
   "source": [
    "# Como sabemos el objetivo es evaluar 3 zonas, para encontrar cual es la mejor en cuanto gasto-beneficio, por lo tanto vamos a crear funciones, que posteriormente vamos a encapsular, para poder reutilizar nuestro código.\n",
    "\n",
    "# Función dividir datos\n",
    "def dividir_datos(region):\n",
    "    features = region.drop(['id','product'], axis=1)\n",
    "    target = region['product']\n",
    "    features_train, features_test, target_train, target_test = train_test_split(features, target, test_size=0.25, random_state=12345)\n",
    "    return features_train, features_test, target_train, target_test\n",
    "\n",
    "def entrenar_modelo(features_train, target_train, features_test):\n",
    "    model = LinearRegression()\n",
    "    model.fit(features_train, target_train)\n",
    "    predicciones = model.predict(features_test)\n",
    "    return predicciones\n",
    "\n",
    "def evaluar_modelo(predicciones, target_test):\n",
    "    rmse = np.sqrt(mean_squared_error(target_test, predicciones))\n",
    "    volumen_medio = predicciones.mean()\n",
    "    return rmse, volumen_medio\n",
    "\n",
    "def procesar_region(region):\n",
    "    features_train, features_test, target_train, target_test = dividir_datos(region)\n",
    "    predicciones = entrenar_modelo(features_train, target_train, features_test)\n",
    "    volumen_medio, rmse = evaluar_modelo(predicciones, target_test)\n",
    "    print(f\"Volumen medio de reservas predicho: {volumen_medio}\")\n",
    "    print(f\"RMSE del modelo: {rmse}\")\n",
    "    return predicciones, volumen_medio"
   ]
  },
  {
   "cell_type": "markdown",
   "metadata": {},
   "source": [
    "## 2.2 Visualización de los resultados del modelo de Regresión Lineal <a id='data_model'></a>"
   ]
  },
  {
   "cell_type": "code",
   "execution_count": 25,
   "metadata": {},
   "outputs": [
    {
     "name": "stdout",
     "output_type": "stream",
     "text": [
      "Resultados para la Región 0\n",
      "Volumen medio de reservas predicho: 37.5794217150813\n",
      "RMSE del modelo: 92.59256778438035\n",
      "Resultados para la Región 0\n",
      "Volumen medio de reservas predicho: 0.8930992867756165\n",
      "RMSE del modelo: 68.72854689544602\n",
      "Resultados para la Región 0\n",
      "Volumen medio de reservas predicho: 40.02970873393434\n",
      "RMSE del modelo: 94.96504596800489\n"
     ]
    }
   ],
   "source": [
    "# Imprimir los resultados del modelo LogisticRegression\n",
    "print(\"Resultados para la Región 0\")\n",
    "predicciones_0, target_0 = procesar_region(region_first)\n",
    "\n",
    "print(\"Resultados para la Región 0\")\n",
    "predicciones_1, target_1 = procesar_region(region_second)\n",
    "\n",
    "print(\"Resultados para la Región 0\")\n",
    "predicciones_2, target_2 = procesar_region(region_third)\n"
   ]
  },
  {
   "cell_type": "markdown",
   "metadata": {},
   "source": [
    "## 2.3 Estimación de ganancias necesarias para la rentabilidad de los pozos petroleros <a id='ganancias_pozos'></a>"
   ]
  },
  {
   "cell_type": "code",
   "execution_count": 28,
   "metadata": {},
   "outputs": [
    {
     "name": "stdout",
     "output_type": "stream",
     "text": [
      "Ganancia mínima por pozo para evitar pérdidas: 500000.0 USD\n",
      "Volumen mínimo de reservas necesario por pozo para evitar pérdidas: 111.11111111111111 unidades (en miles de barriles)\n"
     ]
    }
   ],
   "source": [
    "# Cálculo de ganancias\n",
    "costo_total_inversion = 100_000_000\n",
    "pozos_necesarios = 200\n",
    "ganancia_por_unidad = 4500\n",
    "\n",
    "# Calcular el valor mínimo de reservas necesario para evitar pérdidas\n",
    "ganancia_minima_por_pozo = costo_total_inversion / pozos_necesarios\n",
    "volumen_minimo_reservas = ganancia_minima_por_pozo / ganancia_por_unidad\n",
    "\n",
    "print(f\"Ganancia mínima por pozo para evitar pérdidas: {ganancia_minima_por_pozo} USD\")\n",
    "print(f\"Volumen mínimo de reservas necesario por pozo para evitar pérdidas: {volumen_minimo_reservas} unidades (en miles de barriles)\")"
   ]
  },
  {
   "cell_type": "code",
   "execution_count": 30,
   "metadata": {},
   "outputs": [
    {
     "name": "stdout",
     "output_type": "stream",
     "text": [
      "Región 1: Volumen medio de reservas predicho = 92.59256778438035\n",
      "La Región 1 NO es rentable según el volumen mínimo requerido.\n",
      "Región 2: Volumen medio de reservas predicho = 68.72854689544602\n",
      "La Región 2 NO es rentable según el volumen mínimo requerido.\n",
      "Región 3: Volumen medio de reservas predicho = 94.96504596800489\n",
      "La Región 3 NO es rentable según el volumen mínimo requerido.\n"
     ]
    }
   ],
   "source": [
    "# Visualizar que regiones son rentables\n",
    "volumen_medio_regiones = [predicciones_0.mean(), predicciones_1.mean(), predicciones_2.mean()]\n",
    "\n",
    "for i, volumen_medio in enumerate(volumen_medio_regiones, start=1):\n",
    "    print(f\"Región {i}: Volumen medio de reservas predicho = {volumen_medio}\")\n",
    "    if volumen_medio >= volumen_minimo_reservas:\n",
    "        print(f\"La Región {i} es rentable según el volumen mínimo requerido.\")\n",
    "    else:\n",
    "        print(f\"La Región {i} NO es rentable según el volumen mínimo requerido.\")"
   ]
  },
  {
   "cell_type": "markdown",
   "metadata": {},
   "source": [
    "## Conclusiones de la Etapa 2 <a id='conclusiones_etapa2'></a>"
   ]
  },
  {
   "cell_type": "markdown",
   "metadata": {},
   "source": [
    "Como se observo en el paso anterior, tenemos tres regiones diferentes, en las cuales existen registros, dichos registros pasados nos servirán para saber y conocer donde es la mejor región para los 200 pozos que desea abrir la empresa en un futuro. Para tener un código limpio, creamos tres funciones con otra que encapsulo a estas, con el objetivo de dividir los datos, entrenar el modelo y obtener las predicciones, mediante la Regresión Lineal. Para después con la función encapsulada, obtener los entrenamientos con cada una de las tres regiones. \n",
    "\n",
    "Los resultados que se obtuvieron fueron interesantes, puesto que primero obtuvimos el volumen medio de reservas petroleras en cada una de las regiones, recalcando que este cálculo fue abarcando todos los pozos petroleros de cada región, es decir decir su volumen medio completo.\n",
    "\n",
    "En la región 1 y 3, el volumen de reservas estuvieron por encima de las 35,000 mil barriles, mientras que en la región 2, nos sorprendió ver un nivel muy bajo de reservas, seguro en esta region se encuentran muchos pozos de petroleo con una muy baja reserva. \n",
    "\n",
    "Por otro lado, también calculamos el RMSE(Root Mean Squared Error), el cual es muy grande, prácticamente el doble, lo cual nos dice en la region 1 que tenemos un volumen medio de 37.57 miles de barriles, se desvían en aproximadamente 92.59 miles de barriles, los cual es mas del doble, y asi es parecido para las demás regiones.\n",
    "\n",
    "Con estas predicciones, es absolutamente nada recomendable invertir en estas regiones aparentemente, de acuerdo a los resultados que se han obtenido, ninguna de las tres regiones alcanza el volumen mínimo de reservas necesario para evitar pérdidas, que es 111.1 unidades (miles de barriles). Sin embargo, esto no significa que el proyecto no pueda ser rentable en absoluto. Ahora que sabemos que, en promedio, los pozos en estas regiones no cumplen con el umbral mínimo de manera general, el siguiente paso es evaluar si una selección más precisa de pozos dentro de cada región puede llevarnos a la rentabilidad."
   ]
  },
  {
   "cell_type": "markdown",
   "metadata": {},
   "source": [
    "# Etapa 3. Cálculo de ganancia en los 200 pozos petrolíferos <a id='data_petroleo'></a>"
   ]
  },
  {
   "cell_type": "markdown",
   "metadata": {},
   "source": [
    "## 3.1 Selección de los 200 pozos petrolíferos mas rentables de cada una de las tres regiones <a id='choose_good_pozos'></a>"
   ]
  },
  {
   "cell_type": "code",
   "execution_count": 74,
   "metadata": {},
   "outputs": [
    {
     "name": "stdout",
     "output_type": "stream",
     "text": [
      "\n",
      "Cálculo de ganancia en la región 1\n",
      "Ganancias total de la región 1 fue de 139960488.77465123\n",
      "\n",
      "Cálculo de ganancia en la región 2\n",
      "Ganancias total de la región 2 fue de 124857120.51973563\n",
      "\n",
      "Cálculo de ganancia en la región 3\n",
      "Ganancias total de la región 3 fue de 133217543.96243261\n",
      "\n",
      "Ganancias por región: [139960488.77465123, 124857120.51973563, 133217543.96243261]\n"
     ]
    }
   ],
   "source": [
    "# Vamos a seleccionar los 200 pozos mas rentables, y ver si así, es factible invertir en ellos\n",
    "\n",
    "# Creación de función de pozos mas rentables\n",
    "\n",
    "def seleccionar_top_200(predicciones):\n",
    "    datos = pd.DataFrame({'Predicciones': predicciones})\n",
    "    top_200 = datos.nlargest(200, 'Predicciones')\n",
    "    top_200_predicciones = top_200['Predicciones'].values\n",
    "    return top_200_predicciones\n",
    "\n",
    "def calcular_ganancias(predicciones, ganancia_total):\n",
    "    volumen_total = predicciones.sum()\n",
    "    ganancia_total = volumen_total * ganancia_total\n",
    "    return ganancia_total\n",
    "\n",
    "ganancia_por_unidad = 4500\n",
    "\n",
    "# Crear un diccionario para almacenar las predicciones de los 200 pozos más rentables por región\n",
    "top_200_predicciones_por_region = {}\n",
    "\n",
    "# Cálculo de ganancias por región y almacenamiento de los 200 pozos seleccionados\n",
    "ganancias_por_region = []\n",
    "\n",
    "for i, predicciones in enumerate([predicciones_0, predicciones_1, predicciones_2], start=1):\n",
    "    print(f\"\\nCálculo de ganancia en la región {i}\")\n",
    "\n",
    "    # Seleccionar los 200 pozos con más ganancias\n",
    "    top_200 = seleccionar_top_200(predicciones)\n",
    "    \n",
    "    # Almacenar las predicciones de los 200 pozos seleccionados\n",
    "    top_200_predicciones_por_region[i] = top_200  # Guardamos en un diccionario con la región como clave\n",
    "\n",
    "    # Obtener las ganancias\n",
    "    ganancias_obtenidas = calcular_ganancias(top_200, ganancia_por_unidad)\n",
    "\n",
    "    # Almacenar las ganancias\n",
    "    ganancias_por_region.append(ganancias_obtenidas)\n",
    "\n",
    "    print(f\"Ganancias total de la región {i} fue de {ganancias_obtenidas}\")\n",
    "\n",
    "print(\"\\nGanancias por región:\", ganancias_por_region)"
   ]
  },
  {
   "cell_type": "code",
   "execution_count": 52,
   "metadata": {},
   "outputs": [
    {
     "data": {
      "image/png": "[encoded data removed]",
      "text/plain": [
       "<Figure size 1000x600 with 1 Axes>"
      ]
     },
     "metadata": {},
     "output_type": "display_data"
    }
   ],
   "source": [
    "# Creación de gráfico de las ganancias de las regiones\n",
    "\n",
    "# Nombres de las regiones para el gráfico\n",
    "regiones = [\"Región 1\", \"Región 2\", \"Región 3\"]\n",
    "\n",
    "# Creación del gráfico de barras para mostrar las ganancias por región\n",
    "plt.figure(figsize=(10, 6))\n",
    "plt.bar(regiones, ganancias_por_region) \n",
    "plt.title(\"Ganancia Total por Región para los Pozos más Rentables\")\n",
    "plt.xlabel(\"Regiones\")\n",
    "plt.ylabel(\"Ganancia Total (USD)\")\n",
    "plt.show()"
   ]
  },
  {
   "cell_type": "markdown",
   "metadata": {},
   "source": [
    "En esta parte logramos con la ayuda de dos funciones primero separar los 200 pozos petrolíferos mas rentables de cada región, y, después estimar su ganancia en miles de dólares. De acuerdo a esta información, si seleccionáramos la región 1, obtendríamos mas de USD 139,000,000.00 millones de dólares, lo cual nos daría una ganancia considerable, en relación a los USD 100,000,000.00 millones que queremos recuperar."
   ]
  },
  {
   "cell_type": "markdown",
   "metadata": {},
   "source": [
    "## 3.2 Utilización de técnica bootstrapping para verificar las ganancias totales de los 200 pozos petrolíferos seleccionados por región <a id='bootstrapping'></a>"
   ]
  },
  {
   "cell_type": "code",
   "execution_count": 76,
   "metadata": {},
   "outputs": [
    {
     "name": "stdout",
     "output_type": "stream",
     "text": [
      "\n",
      "Análisis de riesgo y ganancia para la Región 1\n",
      "Beneficio promedio: 139948170.18302223 USD\n",
      "Intervalo de confianza del 95%: [1.39186651e+08 1.40693248e+08] USD\n",
      "Riesgo de pérdida: 0.0%\n",
      "\n",
      "Análisis de riesgo y ganancia para la Región 2\n",
      "Beneficio promedio: 124857407.16881596 USD\n",
      "Intervalo de confianza del 95%: [1.24826701e+08 1.24892121e+08] USD\n",
      "Riesgo de pérdida: 0.0%\n",
      "\n",
      "Análisis de riesgo y ganancia para la Región 3\n",
      "Beneficio promedio: 133210877.85588522 USD\n",
      "Intervalo de confianza del 95%: [1.32554449e+08 1.33854382e+08] USD\n",
      "Riesgo de pérdida: 0.0%\n"
     ]
    }
   ],
   "source": [
    "# Función para calcular riesgos y ganancias por región con bootstrapping\n",
    "\n",
    "def calcular_bootstrapping(predicciones_top_200, ganancia_unidad, n_bootstraps):\n",
    "    ganancias_bootstraps = []\n",
    "    for _ in range(n_bootstraps):\n",
    "        muestra = np.random.choice(predicciones_top_200, size=len(predicciones_top_200), replace=True)\n",
    "        volumen_total_muestra = muestra.sum()\n",
    "        ganancia_muestra = volumen_total_muestra * ganancia_unidad\n",
    "        ganancias_bootstraps.append(ganancia_muestra)\n",
    "    return np.array(ganancias_bootstraps)\n",
    "    \n",
    "\n",
    "def calcular_estadisticas_ganancia(ganancias_bootstraps):\n",
    "    beneficio_promedio = ganancias_bootstraps.mean()\n",
    "    intervalo_confianza = np.percentile(ganancias_bootstraps, [2.5, 97.5])\n",
    "    riesgo_perdida = (ganancias_bootstraps < 0).mean() * 100\n",
    "    return beneficio_promedio, intervalo_confianza, riesgo_perdida\n",
    "\n",
    "ganancias_bootstrap_region = []\n",
    "\n",
    "for i in range(1, 4):\n",
    "    top_200_predicciones_ok = top_200_predicciones_por_region[i]\n",
    "    print(f\"\\nAnálisis de riesgo y ganancia para la Región {i}\")\n",
    "    \n",
    "    # Generar la distribución de ganancias con bootstrapping\n",
    "    ganancias_bootstrap = calcular_bootstrapping(top_200_predicciones_ok, 4500, 1000)\n",
    "    \n",
    "    # Calcular estadísticas de la distribución\n",
    "    beneficio_promedio, intervalo_confianza, riesgo_perdida = calcular_estadisticas_ganancia(ganancias_bootstrap)\n",
    "    \n",
    "    # Imprimir los resultados\n",
    "    print(f\"Beneficio promedio: {beneficio_promedio} USD\")\n",
    "    print(f\"Intervalo de confianza del 95%: {intervalo_confianza} USD\")\n",
    "    print(f\"Riesgo de pérdida: {riesgo_perdida}%\")"
   ]
  },
  {
   "cell_type": "markdown",
   "metadata": {},
   "source": [
    "## Conclusiones de la etapa 3"
   ]
  },
  {
   "cell_type": "markdown",
   "metadata": {},
   "source": [
    "Rentabilidad: La Región 1 muestra el beneficio promedio más alto, con aproximadamente 139.9 millones de USD, seguida de la Región 3 con 133.2 millones de USD y la Región 2 con 124.8 millones de USD. Esto sugiere que, en promedio, la Región 1 es la más rentable.\n",
    "\n",
    "Estabilidad del Beneficio: Los intervalos de confianza del 95% son estrechos en todas las regiones, lo que indica una variabilidad baja y una consistencia en las ganancias proyectadas para cada región.\n",
    "\n",
    "Riesgo de Pérdida: Ninguna región presenta riesgo de pérdida (0% en todas las regiones), lo cual sugiere una alta seguridad de obtener beneficios en cualquiera de las tres regiones.\n",
    "\n",
    "La Región 1 es la más atractiva para el desarrollo de pozos petrolíferos, ya que combina un alto beneficio promedio con un bajo riesgo y una alta estabilidad en los beneficios. Esta selección coincide con los resultados obtenidos en el análisis previo."
   ]
  },
  {
   "cell_type": "markdown",
   "metadata": {},
   "source": [
    "# Conclusiones finales del proyecto <a id='end'></a>"
   ]
  },
  {
   "cell_type": "markdown",
   "metadata": {},
   "source": [
    "### 1. Preparación y Análisis de los Datos\n",
    "- Se analizaron tres conjuntos de datos, uno por cada región, que contenían características como `f0`, `f1`, `f2` y el volumen de reservas (`product`), expresado en miles de barriles.\n",
    "- Cada conjunto fue examinado para asegurar que no hubiera valores ausentes y que estuvieran listos para la modelización.\n",
    "\n",
    "### 2. Modelado Predictivo con Regresión Lineal\n",
    "- Se entrenaron modelos de regresión lineal para cada región, obteniendo predicciones sobre el volumen de reservas.\n",
    "- El rendimiento del modelo se evaluó a través de la métrica RMSE (Raíz del Error Cuadrático Medio) y el volumen promedio de reservas predicho para cada región.\n",
    "- Aunque se obtuvieron resultados variados en cuanto al error, el análisis permitió identificar las regiones con los volúmenes medios de reserva más altos.\n",
    "\n",
    "### 3. Evaluación de Rentabilidad\n",
    "- Con base en un mínimo de **111.1 unidades (miles de barriles)** para alcanzar el umbral de rentabilidad, se determinó que ninguna de las tres regiones alcanzaba este valor mínimo en el volumen promedio de reservas predicho. Sin embargo, esto no descartó las regiones completamente, ya que se realizó un análisis más profundo con los pozos de mayores reservas.\n",
    "\n",
    "### 4. Selección de los Pozos con Mayores Reservas\n",
    "- Se seleccionaron los 200 pozos con las predicciones de reservas más altas en cada región para maximizar las ganancias potenciales.\n",
    "- Esta selección se utilizó para calcular la ganancia proyectada para cada región, tomando en cuenta solo los pozos más rentables.\n",
    "\n",
    "### 5. Cálculo de Ganancias y Evaluación de Riesgos (Bootstrapping)\n",
    "- Utilizando el método de bootstrapping con 1000 muestras, se analizó la distribución de las ganancias esperadas para los 200 pozos principales de cada región.\n",
    "- Se calculó el **beneficio promedio**, el **intervalo de confianza del 95%** para evaluar la estabilidad de las ganancias, y el **riesgo de pérdida**.\n",
    "- Los resultados mostraron que la **Región 1** ofrece el beneficio promedio más alto y un riesgo de pérdida del 0%, seguida de la Región 3 y la Región 2.\n",
    "\n",
    "### 6. Recomendación Final\n",
    "- La **Región 1** es la mejor opción para el desarrollo de pozos, debido a su beneficio promedio más alto y su bajo riesgo, lo cual coincide con el análisis previo. La Región 3 también muestra un buen potencial, aunque con un beneficio ligeramente menor.\n",
    "- Se recomienda invertir en la Región 1 para maximizar la rentabilidad del proyecto de exploración de petróleo, garantizando así un balance óptimo entre beneficio esperado y estabilidad en las ganancias.\n"
   ]
  }
 ],
 "metadata": {
  "kernelspec": {
   "display_name": "Python 3",
   "language": "python",
   "name": "python3"
  },
  "language_info": {
   "codemirror_mode": {
    "name": "ipython",
    "version": 3
   },
   "file_extension": ".py",
   "mimetype": "text/x-python",
   "name": "python",
   "nbconvert_exporter": "python",
   "pygments_lexer": "ipython3",
   "version": "3.11.1"
  }
 },
 "nbformat": 4,
 "nbformat_minor": 2
}
